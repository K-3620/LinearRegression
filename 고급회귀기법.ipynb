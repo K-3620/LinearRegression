{
  "nbformat": 4,
  "nbformat_minor": 0,
  "metadata": {
    "colab": {
      "name": "고급회귀기법.ipynb",
      "provenance": [],
      "collapsed_sections": [],
      "mount_file_id": "1Knh3prSe5ELTy77aeRPA3DN8pPj_iH7b",
      "authorship_tag": "ABX9TyOKtAuNghzLK0Z3pDEME67A",
      "include_colab_link": true
    },
    "kernelspec": {
      "name": "python3",
      "display_name": "Python 3"
    }
  },
  "cells": [
    {
      "cell_type": "markdown",
      "metadata": {
        "id": "view-in-github",
        "colab_type": "text"
      },
      "source": [
        "<a href=\"https://colab.research.google.com/github/K-3620/LinearRegression/blob/main/%EA%B3%A0%EA%B8%89%ED%9A%8C%EA%B7%80%EA%B8%B0%EB%B2%95.ipynb\" target=\"_parent\"><img src=\"https://colab.research.google.com/assets/colab-badge.svg\" alt=\"Open In Colab\"/></a>"
      ]
    },
    {
      "cell_type": "code",
      "metadata": {
        "id": "P24lslSmKFvz"
      },
      "source": [
        "import numpy as np\n",
        "import pandas as pd\n",
        "import warnings\n",
        "warnings.filterwarnings('ignore')"
      ],
      "execution_count": null,
      "outputs": []
    },
    {
      "cell_type": "code",
      "metadata": {
        "id": "COLaRW31KSJV",
        "outputId": "09ca2091-786f-40ce-d585-6955a918cdcb",
        "colab": {
          "base_uri": "https://localhost:8080/",
          "height": 235
        }
      },
      "source": [
        "data = pd.read_csv('/content/drive/My Drive/데이터수집/2010년/2010년.csv',index_col=0)\n",
        "data.head()"
      ],
      "execution_count": null,
      "outputs": [
        {
          "output_type": "execute_result",
          "data": {
            "text/html": [
              "<div>\n",
              "<style scoped>\n",
              "    .dataframe tbody tr th:only-of-type {\n",
              "        vertical-align: middle;\n",
              "    }\n",
              "\n",
              "    .dataframe tbody tr th {\n",
              "        vertical-align: top;\n",
              "    }\n",
              "\n",
              "    .dataframe thead th {\n",
              "        text-align: right;\n",
              "    }\n",
              "</style>\n",
              "<table border=\"1\" class=\"dataframe\">\n",
              "  <thead>\n",
              "    <tr style=\"text-align: right;\">\n",
              "      <th></th>\n",
              "      <th>Open</th>\n",
              "      <th>High</th>\n",
              "      <th>Low</th>\n",
              "      <th>Close</th>\n",
              "      <th>Volume</th>\n",
              "      <th>Change</th>\n",
              "    </tr>\n",
              "    <tr>\n",
              "      <th>Date</th>\n",
              "      <th></th>\n",
              "      <th></th>\n",
              "      <th></th>\n",
              "      <th></th>\n",
              "      <th></th>\n",
              "      <th></th>\n",
              "    </tr>\n",
              "  </thead>\n",
              "  <tbody>\n",
              "    <tr>\n",
              "      <th>2010-01-04</th>\n",
              "      <td>7540</td>\n",
              "      <td>7820</td>\n",
              "      <td>7480</td>\n",
              "      <td>7520</td>\n",
              "      <td>177197</td>\n",
              "      <td>-0.007916</td>\n",
              "    </tr>\n",
              "    <tr>\n",
              "      <th>2010-01-05</th>\n",
              "      <td>7490</td>\n",
              "      <td>7580</td>\n",
              "      <td>7350</td>\n",
              "      <td>7500</td>\n",
              "      <td>214314</td>\n",
              "      <td>-0.002660</td>\n",
              "    </tr>\n",
              "    <tr>\n",
              "      <th>2010-01-06</th>\n",
              "      <td>7500</td>\n",
              "      <td>7500</td>\n",
              "      <td>7320</td>\n",
              "      <td>7350</td>\n",
              "      <td>81874</td>\n",
              "      <td>-0.020000</td>\n",
              "    </tr>\n",
              "    <tr>\n",
              "      <th>2010-01-07</th>\n",
              "      <td>7350</td>\n",
              "      <td>7420</td>\n",
              "      <td>7200</td>\n",
              "      <td>7210</td>\n",
              "      <td>106474</td>\n",
              "      <td>-0.019048</td>\n",
              "    </tr>\n",
              "    <tr>\n",
              "      <th>2010-01-08</th>\n",
              "      <td>7220</td>\n",
              "      <td>7330</td>\n",
              "      <td>7220</td>\n",
              "      <td>7240</td>\n",
              "      <td>61393</td>\n",
              "      <td>0.004161</td>\n",
              "    </tr>\n",
              "  </tbody>\n",
              "</table>\n",
              "</div>"
            ],
            "text/plain": [
              "            Open  High   Low  Close  Volume    Change\n",
              "Date                                                 \n",
              "2010-01-04  7540  7820  7480   7520  177197 -0.007916\n",
              "2010-01-05  7490  7580  7350   7500  214314 -0.002660\n",
              "2010-01-06  7500  7500  7320   7350   81874 -0.020000\n",
              "2010-01-07  7350  7420  7200   7210  106474 -0.019048\n",
              "2010-01-08  7220  7330  7220   7240   61393  0.004161"
            ]
          },
          "metadata": {
            "tags": []
          },
          "execution_count": 5
        }
      ]
    },
    {
      "cell_type": "code",
      "metadata": {
        "id": "49BJCa45Kc-1",
        "outputId": "05c634c9-bb92-407d-a9b0-24ed192bbeeb",
        "colab": {
          "base_uri": "https://localhost:8080/",
          "height": 450
        }
      },
      "source": [
        "# 불필요한 컬럼 삭제\n",
        "data.drop(['Volume','Change'],axis=1)"
      ],
      "execution_count": null,
      "outputs": [
        {
          "output_type": "execute_result",
          "data": {
            "text/html": [
              "<div>\n",
              "<style scoped>\n",
              "    .dataframe tbody tr th:only-of-type {\n",
              "        vertical-align: middle;\n",
              "    }\n",
              "\n",
              "    .dataframe tbody tr th {\n",
              "        vertical-align: top;\n",
              "    }\n",
              "\n",
              "    .dataframe thead th {\n",
              "        text-align: right;\n",
              "    }\n",
              "</style>\n",
              "<table border=\"1\" class=\"dataframe\">\n",
              "  <thead>\n",
              "    <tr style=\"text-align: right;\">\n",
              "      <th></th>\n",
              "      <th>Open</th>\n",
              "      <th>High</th>\n",
              "      <th>Low</th>\n",
              "      <th>Close</th>\n",
              "    </tr>\n",
              "    <tr>\n",
              "      <th>Date</th>\n",
              "      <th></th>\n",
              "      <th></th>\n",
              "      <th></th>\n",
              "      <th></th>\n",
              "    </tr>\n",
              "  </thead>\n",
              "  <tbody>\n",
              "    <tr>\n",
              "      <th>2010-01-04</th>\n",
              "      <td>7540</td>\n",
              "      <td>7820</td>\n",
              "      <td>7480</td>\n",
              "      <td>7520</td>\n",
              "    </tr>\n",
              "    <tr>\n",
              "      <th>2010-01-05</th>\n",
              "      <td>7490</td>\n",
              "      <td>7580</td>\n",
              "      <td>7350</td>\n",
              "      <td>7500</td>\n",
              "    </tr>\n",
              "    <tr>\n",
              "      <th>2010-01-06</th>\n",
              "      <td>7500</td>\n",
              "      <td>7500</td>\n",
              "      <td>7320</td>\n",
              "      <td>7350</td>\n",
              "    </tr>\n",
              "    <tr>\n",
              "      <th>2010-01-07</th>\n",
              "      <td>7350</td>\n",
              "      <td>7420</td>\n",
              "      <td>7200</td>\n",
              "      <td>7210</td>\n",
              "    </tr>\n",
              "    <tr>\n",
              "      <th>2010-01-08</th>\n",
              "      <td>7220</td>\n",
              "      <td>7330</td>\n",
              "      <td>7220</td>\n",
              "      <td>7240</td>\n",
              "    </tr>\n",
              "    <tr>\n",
              "      <th>...</th>\n",
              "      <td>...</td>\n",
              "      <td>...</td>\n",
              "      <td>...</td>\n",
              "      <td>...</td>\n",
              "    </tr>\n",
              "    <tr>\n",
              "      <th>2010-12-24</th>\n",
              "      <td>5120</td>\n",
              "      <td>5120</td>\n",
              "      <td>4990</td>\n",
              "      <td>5070</td>\n",
              "    </tr>\n",
              "    <tr>\n",
              "      <th>2010-12-27</th>\n",
              "      <td>5080</td>\n",
              "      <td>5120</td>\n",
              "      <td>5020</td>\n",
              "      <td>5050</td>\n",
              "    </tr>\n",
              "    <tr>\n",
              "      <th>2010-12-28</th>\n",
              "      <td>5030</td>\n",
              "      <td>5140</td>\n",
              "      <td>5030</td>\n",
              "      <td>5110</td>\n",
              "    </tr>\n",
              "    <tr>\n",
              "      <th>2010-12-29</th>\n",
              "      <td>5150</td>\n",
              "      <td>5330</td>\n",
              "      <td>5120</td>\n",
              "      <td>5300</td>\n",
              "    </tr>\n",
              "    <tr>\n",
              "      <th>2010-12-30</th>\n",
              "      <td>5330</td>\n",
              "      <td>5360</td>\n",
              "      <td>5200</td>\n",
              "      <td>5290</td>\n",
              "    </tr>\n",
              "  </tbody>\n",
              "</table>\n",
              "<p>251 rows × 4 columns</p>\n",
              "</div>"
            ],
            "text/plain": [
              "            Open  High   Low  Close\n",
              "Date                               \n",
              "2010-01-04  7540  7820  7480   7520\n",
              "2010-01-05  7490  7580  7350   7500\n",
              "2010-01-06  7500  7500  7320   7350\n",
              "2010-01-07  7350  7420  7200   7210\n",
              "2010-01-08  7220  7330  7220   7240\n",
              "...          ...   ...   ...    ...\n",
              "2010-12-24  5120  5120  4990   5070\n",
              "2010-12-27  5080  5120  5020   5050\n",
              "2010-12-28  5030  5140  5030   5110\n",
              "2010-12-29  5150  5330  5120   5300\n",
              "2010-12-30  5330  5360  5200   5290\n",
              "\n",
              "[251 rows x 4 columns]"
            ]
          },
          "metadata": {
            "tags": []
          },
          "execution_count": 6
        }
      ]
    },
    {
      "cell_type": "code",
      "metadata": {
        "id": "VOW2uYASNaoq"
      },
      "source": [
        "import matplotlib.pyplot as plt\n",
        "import seaborn as sns"
      ],
      "execution_count": null,
      "outputs": []
    },
    {
      "cell_type": "code",
      "metadata": {
        "id": "olaoz1jmTdhS",
        "outputId": "99bcfcbb-fb58-4bab-9be9-58c84d684e9a",
        "colab": {
          "base_uri": "https://localhost:8080/",
          "height": 387
        }
      },
      "source": [
        "sns.displot(data['Close'])"
      ],
      "execution_count": null,
      "outputs": [
        {
          "output_type": "execute_result",
          "data": {
            "text/plain": [
              "<seaborn.axisgrid.FacetGrid at 0x7f6470b5e908>"
            ]
          },
          "metadata": {
            "tags": []
          },
          "execution_count": 8
        },
        {
          "output_type": "display_data",
          "data": {
            "image/png": "[encoded data removed]",
            "text/plain": [
              "<Figure size 360x360 with 1 Axes>"
            ]
          },
          "metadata": {
            "tags": [],
            "needs_background": "light"
          }
        }
      ]
    },
    {
      "cell_type": "code",
      "metadata": {
        "id": "8F3nZT8sTipo",
        "outputId": "57951feb-9f41-4088-d37c-2caa522114ab",
        "colab": {
          "base_uri": "https://localhost:8080/",
          "height": 297
        }
      },
      "source": [
        "log_Close = np.log1p(data['Close'])\n",
        "sns.distplot(log_Close)"
      ],
      "execution_count": null,
      "outputs": [
        {
          "output_type": "execute_result",
          "data": {
            "text/plain": [
              "<matplotlib.axes._subplots.AxesSubplot at 0x7f646b7f2710>"
            ]
          },
          "metadata": {
            "tags": []
          },
          "execution_count": 9
        },
        {
          "output_type": "display_data",
          "data": {
            "image/png": "[encoded data removed]",
            "text/plain": [
              "<Figure size 432x288 with 1 Axes>"
            ]
          },
          "metadata": {
            "tags": [],
            "needs_background": "light"
          }
        }
      ]
    },
    {
      "cell_type": "code",
      "metadata": {
        "id": "SGRHfVx2Yr1M"
      },
      "source": [
        "# 로그변환\n",
        "log_target = np.log1p(data['Close']) # 답\n",
        "log_features = np.log1p(data.drop('Close',axis=1,inplace=False))"
      ],
      "execution_count": null,
      "outputs": []
    },
    {
      "cell_type": "code",
      "metadata": {
        "id": "kOYtH99WTwzS"
      },
      "source": [
        "# 여러 모델의 로그 변환된 RMSE 측정 함수\n",
        "def get_rmse(model):\n",
        "  pred = model.predict(X_test)\n",
        "  mse = mean_squared_error(y_test,pred)\n",
        "  rmse = np.sqrt(mse)\n",
        "  print(model.__class__.__name__,'로그 변환된 RMSE:',np.round(rmse,3))\n",
        "  return rmse\n",
        "\n",
        "def get_rmses(models):\n",
        "  rmses = []\n",
        "  for model in models:\n",
        "    rmse = get_rmse(model)\n",
        "    rmses.append(rmse)\n",
        "  return rmses"
      ],
      "execution_count": null,
      "outputs": []
    },
    {
      "cell_type": "code",
      "metadata": {
        "id": "CsWOtSbQV1Lm"
      },
      "source": [
        "from sklearn.linear_model import LinearRegression,Ridge,Lasso\n",
        "from sklearn.model_selection import train_test_split\n",
        "from sklearn.metrics import mean_squared_error"
      ],
      "execution_count": null,
      "outputs": []
    },
    {
      "cell_type": "code",
      "metadata": {
        "id": "6epAjDW0WNHJ"
      },
      "source": [
        "y_target = data['Close'] # 답\n",
        "X_features = data.drop('Close',axis=1,inplace=False)\n",
        "X_train,X_test,y_train,y_test = \\\n",
        "train_test_split(\n",
        "    X_features\n",
        "    ,y_target\n",
        "    ,test_size =0.8\n",
        "    ,shuffle = False\n",
        ")"
      ],
      "execution_count": null,
      "outputs": []
    },
    {
      "cell_type": "code",
      "metadata": {
        "id": "owyWrNvGW373",
        "outputId": "983f2e77-8266-4542-96ad-86013b1d2ac8",
        "colab": {
          "base_uri": "https://localhost:8080/",
          "height": 89
        }
      },
      "source": [
        "# LinearRegression,Ridge,Lasso 학습,예측,평가\n",
        "lr_reg = LinearRegression()\n",
        "lr_reg.fit(X_train,y_train)\n",
        "ridge_reg = Ridge()\n",
        "ridge_reg.fit(X_train,y_train)\n",
        "lasso_reg = Lasso()\n",
        "lasso_reg.fit(X_train,y_train)\n",
        "\n",
        "models = [lr_reg,ridge_reg,lasso_reg]\n",
        "get_rmses(models)"
      ],
      "execution_count": null,
      "outputs": [
        {
          "output_type": "stream",
          "text": [
            "LinearRegression 로그 변환된 RMSE: 39.813\n",
            "Ridge 로그 변환된 RMSE: 50.464\n",
            "Lasso 로그 변환된 RMSE: 50.653\n"
          ],
          "name": "stdout"
        },
        {
          "output_type": "execute_result",
          "data": {
            "text/plain": [
              "[39.81304330825269, 50.46443134757256, 50.65336345191539]"
            ]
          },
          "metadata": {
            "tags": []
          },
          "execution_count": 14
        }
      ]
    },
    {
      "cell_type": "code",
      "metadata": {
        "id": "RqGuBRUPXg3S"
      },
      "source": [
        "y_target = log_target # 답\n",
        "X_features = log_features # 학습\n",
        "X_train,X_test,y_train,y_test = \\\n",
        "train_test_split(\n",
        "    X_features\n",
        "    ,y_target\n",
        "    ,test_size =0.8\n",
        "    ,shuffle = False\n",
        ")"
      ],
      "execution_count": null,
      "outputs": []
    },
    {
      "cell_type": "code",
      "metadata": {
        "id": "bqw8O3PCbFcz",
        "outputId": "fc6cde6f-d062-45eb-c80f-e3e132011428",
        "colab": {
          "base_uri": "https://localhost:8080/",
          "height": 89
        }
      },
      "source": [
        "# 로그 변환 데이터로 LinearRegression,Ridge,Lasso 학습,예측,평가\n",
        "lr_reg = LinearRegression()\n",
        "lr_reg.fit(X_train,y_train)\n",
        "ridge_reg = Ridge()\n",
        "ridge_reg.fit(X_train,y_train)\n",
        "lasso_reg = Lasso()\n",
        "lasso_reg.fit(X_train,y_train)\n",
        "\n",
        "models = [lr_reg,ridge_reg,lasso_reg]\n",
        "get_rmses(models)"
      ],
      "execution_count": null,
      "outputs": [
        {
          "output_type": "stream",
          "text": [
            "LinearRegression 로그 변환된 RMSE: 0.007\n",
            "Ridge 로그 변환된 RMSE: 0.113\n",
            "Lasso 로그 변환된 RMSE: 0.188\n"
          ],
          "name": "stdout"
        },
        {
          "output_type": "execute_result",
          "data": {
            "text/plain": [
              "[0.006718137678504268, 0.1127235811771223, 0.18798296226350472]"
            ]
          },
          "metadata": {
            "tags": []
          },
          "execution_count": 17
        }
      ]
    },
    {
      "cell_type": "code",
      "metadata": {
        "id": "cFN_Jh8Re3KE"
      },
      "source": [
        "from sklearn.model_selection import cross_val_score"
      ],
      "execution_count": null,
      "outputs": []
    },
    {
      "cell_type": "code",
      "metadata": {
        "id": "B205NhmvbKRL"
      },
      "source": [
        "# 5개의 교차 검증 폴드 세트 분할 평균 RMSE 측정\n",
        "def get_avg_rmse_cv(models):\n",
        "\n",
        "  for model in models:\n",
        "    rmse_list = np.sqrt(-cross_val_score(model,X_features,y_target\n",
        "                                         ,scoring='neg_mean_squared_error',cv=5))\n",
        "    rmse_avg = np.mean(rmse_list)\n",
        "    print('\\n{0} CV RMSE 값 리스트 : {1}'.format(model.__class__.__name__,np.round(rmse_list,3)))\n",
        "    print('\\n{0} CV 평균 RMSE 값 : {1}'.format(model.__class__.__name__,np.round(rmse_avg,3)))"
      ],
      "execution_count": null,
      "outputs": []
    },
    {
      "cell_type": "code",
      "metadata": {
        "id": "HszarKBMevHe",
        "outputId": "b0e06212-356b-4f76-db68-9e18348486cb",
        "colab": {
          "base_uri": "https://localhost:8080/",
          "height": 233
        }
      },
      "source": [
        "models = [lr_reg,ridge_reg,lasso_reg]\n",
        "get_avg_rmse_cv(models)"
      ],
      "execution_count": null,
      "outputs": [
        {
          "output_type": "stream",
          "text": [
            "\n",
            "LinearRegression CV RMSE 값 리스트 : [0.005 0.005 0.006 0.005 0.005]\n",
            "\n",
            "LinearRegression CV 평균 RMSE 값 : 0.005\n",
            "\n",
            "Ridge CV RMSE 값 리스트 : [0.041 0.024 0.015 0.015 0.017]\n",
            "\n",
            "Ridge CV 평균 RMSE 값 : 0.022\n",
            "\n",
            "Lasso CV RMSE 값 리스트 : [0.186 0.102 0.07  0.093 0.113]\n",
            "\n",
            "Lasso CV 평균 RMSE 값 : 0.113\n"
          ],
          "name": "stdout"
        }
      ]
    },
    {
      "cell_type": "code",
      "metadata": {
        "id": "YDnHlF14e044"
      },
      "source": [
        "# 릿지 모델과 라쏘 모델의 최적화 alpha 값 추출\n",
        "from sklearn.model_selection import GridSearchCV\n",
        "\n",
        "def print_best_params(model,params):\n",
        "  grid_model = GridSearchCV(model,param_grid=params\n",
        "                            ,scoring='neg_mean_squared_error',cv=5)\n",
        "  grid_model.fit(X_features,y_target)\n",
        "  rmse = np.sqrt(-1*grid_model.best_score_)\n",
        "  print('{0} 5 CV시 최적 평균 RMSE 값:{1},최적 alpha:{2}'\n",
        "        .format(model.__class__.__name__,np.round(rmse,4),grid_model.best_params_))\n",
        "  \n"
      ],
      "execution_count": null,
      "outputs": []
    },
    {
      "cell_type": "code",
      "metadata": {
        "id": "n1BI2DbSu126",
        "outputId": "66b16bf0-c8c8-4af8-ab89-52551b6cfdb6",
        "colab": {
          "base_uri": "https://localhost:8080/",
          "height": 53
        }
      },
      "source": [
        "ridge_params = {'alpha':[0.05,0.1,1,5,8,10,12,15,20]}\n",
        "lasso_params = {'alpha':[0.001,0.005,0.008,0.05,0.03,0.1,0.5,1,5,10]}\n",
        "print_best_params(ridge_reg,ridge_params)\n",
        "print_best_params(lasso_reg,lasso_params)"
      ],
      "execution_count": null,
      "outputs": [
        {
          "output_type": "stream",
          "text": [
            "Ridge 5 CV시 최적 평균 RMSE 값:0.0066,최적 alpha:{'alpha': 0.05}\n",
            "Lasso 5 CV시 최적 평균 RMSE 값:0.0196,최적 alpha:{'alpha': 0.001}\n"
          ],
          "name": "stdout"
        }
      ]
    },
    {
      "cell_type": "code",
      "metadata": {
        "id": "5o-IbRGlvJ7a",
        "outputId": "a1feface-ccc7-4bfe-e35f-0514a0a8ffd5",
        "colab": {
          "base_uri": "https://localhost:8080/",
          "height": 89
        }
      },
      "source": [
        "# 최적화 alpha 값으로 학습/예측/평가\n",
        "lr_reg = LinearRegression()\n",
        "lr_reg.fit(X_train,y_train)\n",
        "ridge_reg = Ridge(alpha=0.05)\n",
        "ridge_reg.fit(X_train,y_train)\n",
        "lasso_reg = Lasso(alpha=0.001)\n",
        "lasso_reg.fit(X_train,y_train)\n",
        "\n",
        "# 모든 모델의 RMSE 출력\n",
        "models = [lr_reg,ridge_reg,lasso_reg]\n",
        "get_rmses(models)"
      ],
      "execution_count": null,
      "outputs": [
        {
          "output_type": "stream",
          "text": [
            "LinearRegression 로그 변환된 RMSE: 0.007\n",
            "Ridge 로그 변환된 RMSE: 0.022\n",
            "Lasso 로그 변환된 RMSE: 0.044\n"
          ],
          "name": "stdout"
        },
        {
          "output_type": "execute_result",
          "data": {
            "text/plain": [
              "[0.006718137678504268, 0.022451020420766403, 0.04405547354623761]"
            ]
          },
          "metadata": {
            "tags": []
          },
          "execution_count": 32
        }
      ]
    },
    {
      "cell_type": "code",
      "metadata": {
        "id": "Koghoom6wmeK"
      },
      "source": [
        "### 스태킹 앙상블 모델을 통한 회귀 예측"
      ],
      "execution_count": null,
      "outputs": []
    },
    {
      "cell_type": "code",
      "metadata": {
        "id": "O0PN1gAE0lgG"
      },
      "source": [
        "from sklearn.model_selection import KFold\n",
        "from sklearn.metrics import mean_absolute_error"
      ],
      "execution_count": null,
      "outputs": []
    },
    {
      "cell_type": "code",
      "metadata": {
        "id": "36OdQSVR1WMz"
      },
      "source": [
        "def get_stacking_base_datasets(model,X_train_n,y_train_n,X_test_n,n_folds):\n",
        "  kf = KFold(n_splits=n_folds,shuffle=False,random_state=0)\n",
        "\n",
        "  train_fold_pred = np.zeros((X_train_n.shape[0],1))\n",
        "  test_pred = np.zeros((X_test_n.shape[0],n_folds))\n",
        "  print(model.__class__.__name__,'model 시작')\n",
        "\n",
        "  for folder_counter,(train_index,valid_index) in enumerate(kf.split(X_train_n)):\n",
        "    # 입력된 학습 데이터에서 학습/예측할 폴드 데이터 세트 추출\n",
        "    X_tr = X_train_n[train_index]\n",
        "    y_tr = y_train_n[train_index]\n",
        "    X_te = X_train_n[valid_index]\n",
        "\n",
        "    # 폴드 세트 내부에서 다시 만들어진 학습데이터로 학습 수행\n",
        "    model.fit(X_tr,y_tr)\n",
        "    # 폴드 세트 내부에서 다시 만들어진 검증데이터로 예측 후 데이터 저장\n",
        "    train_fold_pred[valid_index,:] = model.predict(X_te).reshape(-1,1)\n",
        "    # 입력된 원본 테스트 데이터를 포드 세트 내 학습된 모델에 예측 후 데이터 저장\n",
        "    test_pred[:,folder_counter] = model.predict(X_test_n)\n",
        "\n",
        "    # 폴드 세트 내에서 원본 테스트 데이터를 예측한 데이터를 평균하여 테스트 데이터로 생성\n",
        "    test_pred_mean = np.mean(test_pred,axis=1).reshape(-1,1)\n",
        "\n",
        "    return train_fold_pred,test_pred_mean\n"
      ],
      "execution_count": null,
      "outputs": []
    },
    {
      "cell_type": "code",
      "metadata": {
        "id": "71NzL8ofLYwQ",
        "outputId": "61fb788d-2272-4a6d-f325-7ce3814b4981",
        "colab": {
          "base_uri": "https://localhost:8080/",
          "height": 53
        }
      },
      "source": [
        "X_train_n = X_train.values\n",
        "X_test_n = X_test.values\n",
        "y_train_n = y_train.values\n",
        "\n",
        "ridge_train,ridge_test = \\\n",
        "get_stacking_base_datasets(ridge_reg,X_train_n,y_train_n,X_test_n,5)\n",
        "lasso_train,lasso_test = \\\n",
        "get_stacking_base_datasets(lasso_reg,X_train_n,y_train_n,X_test_n,5)"
      ],
      "execution_count": null,
      "outputs": [
        {
          "output_type": "stream",
          "text": [
            "Ridge model 시작\n",
            "Lasso model 시작\n"
          ],
          "name": "stdout"
        }
      ]
    },
    {
      "cell_type": "code",
      "metadata": {
        "id": "kgx3qLL4NUxx",
        "outputId": "3966a487-4395-4066-f859-2e53732b6ceb",
        "colab": {
          "base_uri": "https://localhost:8080/",
          "height": 35
        }
      },
      "source": [
        "# 학습/테스트용 데이터 세트를 스태킹 형태로 결합\n",
        "Stack_final_X_train = np.concatenate((ridge_train,lasso_train),axis=1)\n",
        "Stack_final_X_test = np.concatenate((ridge_test,lasso_test),axis=1)\n",
        "\n",
        "# 최종 메타 모델은 라쏘 모델 적용\n",
        "meta_model_lasso = Lasso(alpha=0.001)\n",
        "\n",
        "# 새로 만들어진 학습/테스트 데이터로 메타 모델 예측 및 RMSE 측정\n",
        "meta_model_lasso.fit(Stack_final_X_train,y_train)\n",
        "final = meta_model_lasso.predict(Stack_final_X_test)\n",
        "mse = mean_squared_error(y_test,final)\n",
        "rmse = np.sqrt(mse)\n",
        "print('스태킹 회귀 모델의 최종 RMSE 값 : ',rmse)"
      ],
      "execution_count": null,
      "outputs": [
        {
          "output_type": "stream",
          "text": [
            "스태킹 회귀 모델의 최종 RMSE 값 :  0.18727229469272466\n"
          ],
          "name": "stdout"
        }
      ]
    },
    {
      "cell_type": "code",
      "metadata": {
        "id": "eVjs4LlgPjhf"
      },
      "source": [
        ""
      ],
      "execution_count": null,
      "outputs": []
    }
  ]
}